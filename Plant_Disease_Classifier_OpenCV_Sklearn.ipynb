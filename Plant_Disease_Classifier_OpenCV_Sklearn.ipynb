{
  "cells": [
    {
      "cell_type": "markdown",
      "metadata": {
        "id": "view-in-github",
        "colab_type": "text"
      },
      "source": [
        "<a href=\"https://colab.research.google.com/github/reehambasheer/opencv-image-classifier/blob/main/Plant_Disease_Classifier_OpenCV_Sklearn.ipynb\" target=\"_parent\"><img src=\"https://colab.research.google.com/assets/colab-badge.svg\" alt=\"Open In Colab\"/></a>"
      ]
    },
    {
      "cell_type": "markdown",
      "metadata": {
        "id": "KYRA_II3joDw"
      },
      "source": [
        "# 🌱 Plant Disease Classification\n",
        "---\n",
        "This notebook demonstrates how to use **OpenCV** for image preprocessing and **scikit-learn** for training a classifier on the [Plant Diseases Dataset](https://www.kaggle.com/datasets/vipoooool/new-plant-diseases-dataset).\n",
        "\n",
        "### Steps:\n",
        "1. Download dataset from Kaggle\n",
        "2. Preprocess images using OpenCV\n",
        "3. Extract features\n",
        "4. Train scikit-learn classifier\n",
        "5. Evaluate performance\n",
        "6. Save model for deployment\n"
      ]
    },
    {
      "cell_type": "code",
      "execution_count": 15,
      "metadata": {
        "colab": {
          "base_uri": "https://localhost:8080/"
        },
        "id": "vLcyi9y6joDy",
        "outputId": "ad167528-a71c-49cb-fd66-8cf6da150f74"
      },
      "outputs": [
        {
          "output_type": "stream",
          "name": "stdout",
          "text": [
            "Requirement already satisfied: opencv-python in /usr/local/lib/python3.12/dist-packages (4.12.0.88)\n",
            "Requirement already satisfied: scikit-learn in /usr/local/lib/python3.12/dist-packages (1.6.1)\n",
            "Requirement already satisfied: matplotlib in /usr/local/lib/python3.12/dist-packages (3.10.0)\n",
            "Requirement already satisfied: tqdm in /usr/local/lib/python3.12/dist-packages (4.67.1)\n",
            "Requirement already satisfied: numpy<2.3.0,>=2 in /usr/local/lib/python3.12/dist-packages (from opencv-python) (2.0.2)\n",
            "Requirement already satisfied: scipy>=1.6.0 in /usr/local/lib/python3.12/dist-packages (from scikit-learn) (1.16.2)\n",
            "Requirement already satisfied: joblib>=1.2.0 in /usr/local/lib/python3.12/dist-packages (from scikit-learn) (1.5.2)\n",
            "Requirement already satisfied: threadpoolctl>=3.1.0 in /usr/local/lib/python3.12/dist-packages (from scikit-learn) (3.6.0)\n",
            "Requirement already satisfied: contourpy>=1.0.1 in /usr/local/lib/python3.12/dist-packages (from matplotlib) (1.3.3)\n",
            "Requirement already satisfied: cycler>=0.10 in /usr/local/lib/python3.12/dist-packages (from matplotlib) (0.12.1)\n",
            "Requirement already satisfied: fonttools>=4.22.0 in /usr/local/lib/python3.12/dist-packages (from matplotlib) (4.60.1)\n",
            "Requirement already satisfied: kiwisolver>=1.3.1 in /usr/local/lib/python3.12/dist-packages (from matplotlib) (1.4.9)\n",
            "Requirement already satisfied: packaging>=20.0 in /usr/local/lib/python3.12/dist-packages (from matplotlib) (25.0)\n",
            "Requirement already satisfied: pillow>=8 in /usr/local/lib/python3.12/dist-packages (from matplotlib) (11.3.0)\n",
            "Requirement already satisfied: pyparsing>=2.3.1 in /usr/local/lib/python3.12/dist-packages (from matplotlib) (3.2.5)\n",
            "Requirement already satisfied: python-dateutil>=2.7 in /usr/local/lib/python3.12/dist-packages (from matplotlib) (2.9.0.post0)\n",
            "Requirement already satisfied: six>=1.5 in /usr/local/lib/python3.12/dist-packages (from python-dateutil>=2.7->matplotlib) (1.17.0)\n"
          ]
        }
      ],
      "source": [
        "# Install dependencies (run only in Colab)\n",
        "!pip install opencv-python scikit-learn matplotlib tqdm"
      ]
    },
    {
      "cell_type": "markdown",
      "metadata": {
        "id": "4FOFIjoNjoDz"
      },
      "source": [
        "## 📂 Step 1: Mount Google Drive & Load Dataset"
      ]
    },
    {
      "cell_type": "code",
      "execution_count": 16,
      "metadata": {
        "colab": {
          "base_uri": "https://localhost:8080/"
        },
        "id": "EkgeD-KfjoD0",
        "outputId": "5a2ecfee-62a3-455b-9b04-dc4fcbdcaf36"
      },
      "outputs": [
        {
          "output_type": "stream",
          "name": "stdout",
          "text": [
            "Using Colab cache for faster access to the 'new-plant-diseases-dataset' dataset.\n",
            "Path to dataset files: /kaggle/input/new-plant-diseases-dataset\n"
          ]
        }
      ],
      "source": [
        "import kagglehub\n",
        "\n",
        "# Download latest version\n",
        "path = kagglehub.dataset_download(\"vipoooool/new-plant-diseases-dataset\")\n",
        "\n",
        "print(\"Path to dataset files:\", path)"
      ]
    },
    {
      "cell_type": "markdown",
      "metadata": {
        "id": "NIy02hbSjoD0"
      },
      "source": [
        "## 🖼 Step 2: Preprocess Images with OpenCV"
      ]
    },
    {
      "cell_type": "code",
      "execution_count": 17,
      "metadata": {
        "colab": {
          "base_uri": "https://localhost:8080/"
        },
        "id": "2bjWPYKgjoD0",
        "outputId": "f6ce0510-9273-4625-c0d2-10e4d6a7f5b4"
      },
      "outputs": [
        {
          "output_type": "stream",
          "name": "stdout",
          "text": [
            "Found training data path: /kaggle/input/new-plant-diseases-dataset/New Plant Diseases Dataset(Augmented)/New Plant Diseases Dataset(Augmented)/train\n",
            "Contents of /kaggle/input/new-plant-diseases-dataset/New Plant Diseases Dataset(Augmented)/New Plant Diseases Dataset(Augmented)/train: ['Tomato___Late_blight', 'Tomato___healthy', 'Grape___healthy', 'Orange___Haunglongbing_(Citrus_greening)', 'Soybean___healthy', 'Squash___Powdery_mildew', 'Potato___healthy', 'Corn_(maize)___Northern_Leaf_Blight', 'Tomato___Early_blight', 'Tomato___Septoria_leaf_spot', 'Corn_(maize)___Cercospora_leaf_spot Gray_leaf_spot', 'Strawberry___Leaf_scorch', 'Peach___healthy', 'Apple___Apple_scab', 'Tomato___Tomato_Yellow_Leaf_Curl_Virus', 'Tomato___Bacterial_spot', 'Apple___Black_rot', 'Blueberry___healthy', 'Cherry_(including_sour)___Powdery_mildew', 'Peach___Bacterial_spot', 'Apple___Cedar_apple_rust', 'Tomato___Target_Spot', 'Pepper,_bell___healthy', 'Grape___Leaf_blight_(Isariopsis_Leaf_Spot)', 'Potato___Late_blight', 'Tomato___Tomato_mosaic_virus', 'Strawberry___healthy', 'Apple___healthy', 'Grape___Black_rot', 'Potato___Early_blight', 'Cherry_(including_sour)___healthy', 'Corn_(maize)___Common_rust_', 'Grape___Esca_(Black_Measles)', 'Raspberry___healthy', 'Tomato___Leaf_Mold', 'Tomato___Spider_mites Two-spotted_spider_mite', 'Pepper,_bell___Bacterial_spot', 'Corn_(maize)___healthy']\n",
            "Found 38 classes after filtering.\n"
          ]
        },
        {
          "output_type": "stream",
          "name": "stderr",
          "text": [
            "\r  0%|          | 0/38 [00:00<?, ?it/s]"
          ]
        },
        {
          "output_type": "stream",
          "name": "stdout",
          "text": [
            "Processing class Tomato___Late_blight with 1851 images found.\n"
          ]
        },
        {
          "output_type": "stream",
          "name": "stderr",
          "text": [
            "\r  3%|▎         | 1/38 [00:00<00:21,  1.70it/s]"
          ]
        },
        {
          "output_type": "stream",
          "name": "stdout",
          "text": [
            "Processing class Tomato___healthy with 1926 images found.\n"
          ]
        },
        {
          "output_type": "stream",
          "name": "stderr",
          "text": [
            "\r  5%|▌         | 2/38 [00:01<00:21,  1.71it/s]"
          ]
        },
        {
          "output_type": "stream",
          "name": "stdout",
          "text": [
            "Processing class Grape___healthy with 1692 images found.\n"
          ]
        },
        {
          "output_type": "stream",
          "name": "stderr",
          "text": [
            "\r  8%|▊         | 3/38 [00:01<00:23,  1.52it/s]"
          ]
        },
        {
          "output_type": "stream",
          "name": "stdout",
          "text": [
            "Processing class Orange___Haunglongbing_(Citrus_greening) with 2010 images found.\n"
          ]
        },
        {
          "output_type": "stream",
          "name": "stderr",
          "text": [
            "\r 11%|█         | 4/38 [00:02<00:25,  1.35it/s]"
          ]
        },
        {
          "output_type": "stream",
          "name": "stdout",
          "text": [
            "Processing class Soybean___healthy with 2022 images found.\n"
          ]
        },
        {
          "output_type": "stream",
          "name": "stderr",
          "text": [
            "\r 13%|█▎        | 5/38 [00:03<00:26,  1.25it/s]"
          ]
        },
        {
          "output_type": "stream",
          "name": "stdout",
          "text": [
            "Processing class Squash___Powdery_mildew with 1736 images found.\n"
          ]
        },
        {
          "output_type": "stream",
          "name": "stderr",
          "text": [
            "\r 16%|█▌        | 6/38 [00:04<00:25,  1.24it/s]"
          ]
        },
        {
          "output_type": "stream",
          "name": "stdout",
          "text": [
            "Processing class Potato___healthy with 1824 images found.\n"
          ]
        },
        {
          "output_type": "stream",
          "name": "stderr",
          "text": [
            "\r 18%|█▊        | 7/38 [00:05<00:24,  1.27it/s]"
          ]
        },
        {
          "output_type": "stream",
          "name": "stdout",
          "text": [
            "Processing class Corn_(maize)___Northern_Leaf_Blight with 1908 images found.\n"
          ]
        },
        {
          "output_type": "stream",
          "name": "stderr",
          "text": [
            "\r 21%|██        | 8/38 [00:06<00:24,  1.23it/s]"
          ]
        },
        {
          "output_type": "stream",
          "name": "stdout",
          "text": [
            "Processing class Tomato___Early_blight with 1920 images found.\n"
          ]
        },
        {
          "output_type": "stream",
          "name": "stderr",
          "text": [
            "\r 24%|██▎       | 9/38 [00:06<00:22,  1.31it/s]"
          ]
        },
        {
          "output_type": "stream",
          "name": "stdout",
          "text": [
            "Processing class Tomato___Septoria_leaf_spot with 1745 images found.\n"
          ]
        },
        {
          "output_type": "stream",
          "name": "stderr",
          "text": [
            "\r 26%|██▋       | 10/38 [00:07<00:21,  1.33it/s]"
          ]
        },
        {
          "output_type": "stream",
          "name": "stdout",
          "text": [
            "Processing class Corn_(maize)___Cercospora_leaf_spot Gray_leaf_spot with 1642 images found.\n"
          ]
        },
        {
          "output_type": "stream",
          "name": "stderr",
          "text": [
            "\r 29%|██▉       | 11/38 [00:08<00:22,  1.23it/s]"
          ]
        },
        {
          "output_type": "stream",
          "name": "stdout",
          "text": [
            "Processing class Strawberry___Leaf_scorch with 1774 images found.\n"
          ]
        },
        {
          "output_type": "stream",
          "name": "stderr",
          "text": [
            "\r 32%|███▏      | 12/38 [00:09<00:21,  1.20it/s]"
          ]
        },
        {
          "output_type": "stream",
          "name": "stdout",
          "text": [
            "Processing class Peach___healthy with 1728 images found.\n"
          ]
        },
        {
          "output_type": "stream",
          "name": "stderr",
          "text": [
            "\r 34%|███▍      | 13/38 [00:10<00:20,  1.25it/s]"
          ]
        },
        {
          "output_type": "stream",
          "name": "stdout",
          "text": [
            "Processing class Apple___Apple_scab with 2016 images found.\n"
          ]
        },
        {
          "output_type": "stream",
          "name": "stderr",
          "text": [
            "\r 37%|███▋      | 14/38 [00:10<00:19,  1.26it/s]"
          ]
        },
        {
          "output_type": "stream",
          "name": "stdout",
          "text": [
            "Processing class Tomato___Tomato_Yellow_Leaf_Curl_Virus with 1961 images found.\n"
          ]
        },
        {
          "output_type": "stream",
          "name": "stderr",
          "text": [
            "\r 39%|███▉      | 15/38 [00:11<00:17,  1.31it/s]"
          ]
        },
        {
          "output_type": "stream",
          "name": "stdout",
          "text": [
            "Processing class Tomato___Bacterial_spot with 1702 images found.\n"
          ]
        },
        {
          "output_type": "stream",
          "name": "stderr",
          "text": [
            "\r 42%|████▏     | 16/38 [00:12<00:15,  1.38it/s]"
          ]
        },
        {
          "output_type": "stream",
          "name": "stdout",
          "text": [
            "Processing class Apple___Black_rot with 1987 images found.\n"
          ]
        },
        {
          "output_type": "stream",
          "name": "stderr",
          "text": [
            "\r 45%|████▍     | 17/38 [00:12<00:14,  1.47it/s]"
          ]
        },
        {
          "output_type": "stream",
          "name": "stdout",
          "text": [
            "Processing class Blueberry___healthy with 1816 images found.\n"
          ]
        },
        {
          "output_type": "stream",
          "name": "stderr",
          "text": [
            "\r 47%|████▋     | 18/38 [00:13<00:13,  1.52it/s]"
          ]
        },
        {
          "output_type": "stream",
          "name": "stdout",
          "text": [
            "Processing class Cherry_(including_sour)___Powdery_mildew with 1683 images found.\n"
          ]
        },
        {
          "output_type": "stream",
          "name": "stderr",
          "text": [
            "\r 50%|█████     | 19/38 [00:13<00:11,  1.61it/s]"
          ]
        },
        {
          "output_type": "stream",
          "name": "stdout",
          "text": [
            "Processing class Peach___Bacterial_spot with 1838 images found.\n"
          ]
        },
        {
          "output_type": "stream",
          "name": "stderr",
          "text": [
            "\r 53%|█████▎    | 20/38 [00:14<00:10,  1.73it/s]"
          ]
        },
        {
          "output_type": "stream",
          "name": "stdout",
          "text": [
            "Processing class Apple___Cedar_apple_rust with 1760 images found.\n"
          ]
        },
        {
          "output_type": "stream",
          "name": "stderr",
          "text": [
            "\r 55%|█████▌    | 21/38 [00:14<00:09,  1.77it/s]"
          ]
        },
        {
          "output_type": "stream",
          "name": "stdout",
          "text": [
            "Processing class Tomato___Target_Spot with 1827 images found.\n"
          ]
        },
        {
          "output_type": "stream",
          "name": "stderr",
          "text": [
            "\r 58%|█████▊    | 22/38 [00:15<00:09,  1.74it/s]"
          ]
        },
        {
          "output_type": "stream",
          "name": "stdout",
          "text": [
            "Processing class Pepper,_bell___healthy with 1988 images found.\n"
          ]
        },
        {
          "output_type": "stream",
          "name": "stderr",
          "text": [
            "\r 61%|██████    | 23/38 [00:16<00:08,  1.77it/s]"
          ]
        },
        {
          "output_type": "stream",
          "name": "stdout",
          "text": [
            "Processing class Grape___Leaf_blight_(Isariopsis_Leaf_Spot) with 1722 images found.\n"
          ]
        },
        {
          "output_type": "stream",
          "name": "stderr",
          "text": [
            "\r 63%|██████▎   | 24/38 [00:16<00:08,  1.72it/s]"
          ]
        },
        {
          "output_type": "stream",
          "name": "stdout",
          "text": [
            "Processing class Potato___Late_blight with 1939 images found.\n"
          ]
        },
        {
          "output_type": "stream",
          "name": "stderr",
          "text": [
            "\r 66%|██████▌   | 25/38 [00:17<00:07,  1.68it/s]"
          ]
        },
        {
          "output_type": "stream",
          "name": "stdout",
          "text": [
            "Processing class Tomato___Tomato_mosaic_virus with 1790 images found.\n"
          ]
        },
        {
          "output_type": "stream",
          "name": "stderr",
          "text": [
            "\r 68%|██████▊   | 26/38 [00:17<00:07,  1.70it/s]"
          ]
        },
        {
          "output_type": "stream",
          "name": "stdout",
          "text": [
            "Processing class Strawberry___healthy with 1824 images found.\n"
          ]
        },
        {
          "output_type": "stream",
          "name": "stderr",
          "text": [
            "\r 71%|███████   | 27/38 [00:18<00:06,  1.69it/s]"
          ]
        },
        {
          "output_type": "stream",
          "name": "stdout",
          "text": [
            "Processing class Apple___healthy with 2008 images found.\n"
          ]
        },
        {
          "output_type": "stream",
          "name": "stderr",
          "text": [
            "\r 74%|███████▎  | 28/38 [00:19<00:06,  1.62it/s]"
          ]
        },
        {
          "output_type": "stream",
          "name": "stdout",
          "text": [
            "Processing class Grape___Black_rot with 1888 images found.\n"
          ]
        },
        {
          "output_type": "stream",
          "name": "stderr",
          "text": [
            "\r 76%|███████▋  | 29/38 [00:19<00:05,  1.60it/s]"
          ]
        },
        {
          "output_type": "stream",
          "name": "stdout",
          "text": [
            "Processing class Potato___Early_blight with 1939 images found.\n"
          ]
        },
        {
          "output_type": "stream",
          "name": "stderr",
          "text": [
            "\r 79%|███████▉  | 30/38 [00:20<00:05,  1.58it/s]"
          ]
        },
        {
          "output_type": "stream",
          "name": "stdout",
          "text": [
            "Processing class Cherry_(including_sour)___healthy with 1826 images found.\n"
          ]
        },
        {
          "output_type": "stream",
          "name": "stderr",
          "text": [
            "\r 82%|████████▏ | 31/38 [00:21<00:04,  1.58it/s]"
          ]
        },
        {
          "output_type": "stream",
          "name": "stdout",
          "text": [
            "Processing class Corn_(maize)___Common_rust_ with 1907 images found.\n"
          ]
        },
        {
          "output_type": "stream",
          "name": "stderr",
          "text": [
            "\r 84%|████████▍ | 32/38 [00:21<00:03,  1.57it/s]"
          ]
        },
        {
          "output_type": "stream",
          "name": "stdout",
          "text": [
            "Processing class Grape___Esca_(Black_Measles) with 1920 images found.\n"
          ]
        },
        {
          "output_type": "stream",
          "name": "stderr",
          "text": [
            "\r 87%|████████▋ | 33/38 [00:22<00:03,  1.61it/s]"
          ]
        },
        {
          "output_type": "stream",
          "name": "stdout",
          "text": [
            "Processing class Raspberry___healthy with 1781 images found.\n"
          ]
        },
        {
          "output_type": "stream",
          "name": "stderr",
          "text": [
            "\r 89%|████████▉ | 34/38 [00:22<00:02,  1.60it/s]"
          ]
        },
        {
          "output_type": "stream",
          "name": "stdout",
          "text": [
            "Processing class Tomato___Leaf_Mold with 1882 images found.\n"
          ]
        },
        {
          "output_type": "stream",
          "name": "stderr",
          "text": [
            "\r 92%|█████████▏| 35/38 [00:23<00:01,  1.62it/s]"
          ]
        },
        {
          "output_type": "stream",
          "name": "stdout",
          "text": [
            "Processing class Tomato___Spider_mites Two-spotted_spider_mite with 1741 images found.\n"
          ]
        },
        {
          "output_type": "stream",
          "name": "stderr",
          "text": [
            "\r 95%|█████████▍| 36/38 [00:24<00:01,  1.64it/s]"
          ]
        },
        {
          "output_type": "stream",
          "name": "stdout",
          "text": [
            "Processing class Pepper,_bell___Bacterial_spot with 1913 images found.\n"
          ]
        },
        {
          "output_type": "stream",
          "name": "stderr",
          "text": [
            "\r 97%|█████████▋| 37/38 [00:24<00:00,  1.66it/s]"
          ]
        },
        {
          "output_type": "stream",
          "name": "stdout",
          "text": [
            "Processing class Corn_(maize)___healthy with 1859 images found.\n"
          ]
        },
        {
          "output_type": "stream",
          "name": "stderr",
          "text": [
            "100%|██████████| 38/38 [00:25<00:00,  1.51it/s]"
          ]
        },
        {
          "output_type": "stream",
          "name": "stdout",
          "text": [
            "Dataset prepared: (6080, 4096) (1520, 4096)\n"
          ]
        },
        {
          "output_type": "stream",
          "name": "stderr",
          "text": [
            "\n"
          ]
        }
      ],
      "source": [
        "import cv2, os\n",
        "import numpy as np\n",
        "from sklearn.model_selection import train_test_split\n",
        "from tqdm import tqdm\n",
        "\n",
        "IMG_SIZE = 64\n",
        "X, y = [], []\n",
        "\n",
        "# Construct the path to the training data within the downloaded dataset\n",
        "# Search for the training data directory within the downloaded path\n",
        "train_data_path = None\n",
        "for root, dirs, files in os.walk(path):\n",
        "    if 'train' in dirs:\n",
        "        train_data_path = os.path.join(root, 'train')\n",
        "        print(f\"Found training data path: {train_data_path}\")\n",
        "        break\n",
        "\n",
        "if train_data_path:\n",
        "    print(f\"Contents of {train_data_path}: {os.listdir(train_data_path)}\") # Debugging print\n",
        "    classes = os.listdir(train_data_path)\n",
        "    # Filter out any hidden files or non-directory entries\n",
        "    classes = [cls for cls in classes if os.path.isdir(os.path.join(train_data_path, cls))]\n",
        "    label_map = {cls:i for i, cls in enumerate(classes)}\n",
        "\n",
        "    print(f\"Found {len(classes)} classes after filtering.\") # Debugging print\n",
        "\n",
        "    # Check if any classes were found\n",
        "    if not classes:\n",
        "        print(f\"Error: No class directories found in {train_data_path}\")\n",
        "    else:\n",
        "        for cls in tqdm(classes):\n",
        "            cls_path = os.path.join(train_data_path, cls)\n",
        "            # Ensure cls_path is a directory before listing files\n",
        "            if os.path.isdir(cls_path):\n",
        "                # Limit per class for speed, but ensure there are files to iterate\n",
        "                img_list = os.listdir(cls_path)\n",
        "                print(f\"Processing class {cls} with {len(img_list)} images found.\")\n",
        "                if img_list:\n",
        "                    for img_name in img_list[:200]: # Limiting to 200 images per class for faster execution\n",
        "                        img_path = os.path.join(cls_path, img_name)\n",
        "                        # Ensure img_path is a file before reading\n",
        "                        if os.path.isfile(img_path):\n",
        "                            img = cv2.imread(img_path)\n",
        "                            if img is None:\n",
        "                                continue\n",
        "                            img = cv2.resize(img, (IMG_SIZE, IMG_SIZE))\n",
        "                            gray = cv2.cvtColor(img, cv2.COLOR_BGR2GRAY)\n",
        "                            X.append(gray.flatten())\n",
        "                            y.append(label_map[cls])\n",
        "                else:\n",
        "                    print(f\"Warning: No images found in directory {cls_path}\")\n",
        "            else:\n",
        "                 print(f\"Warning: Expected directory but found file at {cls_path}\")\n",
        "\n",
        "\n",
        "X = np.array(X)\n",
        "y = np.array(y)\n",
        "\n",
        "# Check if X and y are not empty before splitting\n",
        "if len(X) > 0 and len(y) > 0:\n",
        "    X_train, X_test, y_train, y_test = train_test_split(X, y, test_size=0.2, random_state=42)\n",
        "    print(\"Dataset prepared:\", X_train.shape, X_test.shape)\n",
        "else:\n",
        "    print(\"Error: No image data was loaded. X and y are empty.\")"
      ]
    },
    {
      "cell_type": "markdown",
      "metadata": {
        "id": "-2w6DKwdjoD1"
      },
      "source": [
        "## 🤖 Step 3: Train scikit-learn Classifier"
      ]
    },
    {
      "cell_type": "code",
      "execution_count": 18,
      "metadata": {
        "colab": {
          "base_uri": "https://localhost:8080/"
        },
        "id": "Sf4X3fPojoD1",
        "outputId": "b9c36832-66de-4957-81a5-a604a84257f9"
      },
      "outputs": [
        {
          "output_type": "stream",
          "name": "stdout",
          "text": [
            "Model trained successfully!\n"
          ]
        }
      ],
      "source": [
        "from sklearn.svm import SVC\n",
        "clf = SVC(kernel='linear', probability=True)\n",
        "clf.fit(X_train, y_train)\n",
        "print(\"Model trained successfully!\")"
      ]
    },
    {
      "cell_type": "markdown",
      "metadata": {
        "id": "6uzLyK92joD2"
      },
      "source": [
        "## 📊 Step 4: Evaluate Model"
      ]
    },
    {
      "cell_type": "code",
      "execution_count": 19,
      "metadata": {
        "id": "YxPvhLGbjoD2",
        "colab": {
          "base_uri": "https://localhost:8080/"
        },
        "outputId": "9b5fccdf-afe1-4830-c87c-8d89bd1abd4a"
      },
      "outputs": [
        {
          "output_type": "stream",
          "name": "stdout",
          "text": [
            "Accuracy: 0.3190789473684211\n",
            "              precision    recall  f1-score   support\n",
            "\n",
            "           0       0.17      0.19      0.18        48\n",
            "           1       0.28      0.32      0.30        41\n",
            "           2       0.42      0.57      0.49        49\n",
            "           3       0.24      0.51      0.33        37\n",
            "           4       0.33      0.55      0.41        31\n",
            "           5       0.36      0.40      0.38        52\n",
            "           6       0.35      0.23      0.28        35\n",
            "           7       0.35      0.27      0.31        55\n",
            "           8       0.23      0.17      0.20        47\n",
            "           9       0.09      0.07      0.08        42\n",
            "          10       0.50      0.36      0.42        33\n",
            "          11       0.17      0.12      0.14        42\n",
            "          12       0.30      0.19      0.23        47\n",
            "          13       0.22      0.26      0.24        35\n",
            "          14       0.20      0.31      0.24        36\n",
            "          15       0.32      0.45      0.38        40\n",
            "          16       0.34      0.35      0.35        34\n",
            "          17       0.29      0.36      0.32        33\n",
            "          18       0.33      0.44      0.37        32\n",
            "          19       0.29      0.29      0.29        42\n",
            "          20       0.26      0.33      0.29        39\n",
            "          21       0.09      0.04      0.05        51\n",
            "          22       0.17      0.26      0.21        38\n",
            "          23       0.61      0.56      0.58        45\n",
            "          24       0.15      0.14      0.14        36\n",
            "          25       0.35      0.34      0.35        32\n",
            "          26       0.32      0.28      0.30        36\n",
            "          27       0.12      0.11      0.11        45\n",
            "          28       0.41      0.31      0.35        42\n",
            "          29       0.77      0.47      0.58        43\n",
            "          30       0.42      0.42      0.42        38\n",
            "          31       0.93      0.95      0.94        39\n",
            "          32       0.44      0.47      0.45        30\n",
            "          33       0.40      0.33      0.36        36\n",
            "          34       0.19      0.18      0.18        33\n",
            "          35       0.24      0.22      0.23        41\n",
            "          36       0.12      0.05      0.07        43\n",
            "          37       0.49      0.48      0.48        42\n",
            "\n",
            "    accuracy                           0.32      1520\n",
            "   macro avg       0.32      0.32      0.32      1520\n",
            "weighted avg       0.32      0.32      0.31      1520\n",
            "\n"
          ]
        }
      ],
      "source": [
        "from sklearn.metrics import classification_report, accuracy_score\n",
        "\n",
        "y_pred = clf.predict(X_test)\n",
        "print(\"Accuracy:\", accuracy_score(y_test, y_pred))\n",
        "print(classification_report(y_test, y_pred))"
      ]
    },
    {
      "cell_type": "markdown",
      "metadata": {
        "id": "I6n5jQUzjoD2"
      },
      "source": [
        "## 💾 Step 5: Save Model"
      ]
    },
    {
      "cell_type": "code",
      "execution_count": 20,
      "metadata": {
        "id": "0NiRw_FHjoD3",
        "colab": {
          "base_uri": "https://localhost:8080/"
        },
        "outputId": "3ac5226e-aef9-4e77-8887-89902feaa363"
      },
      "outputs": [
        {
          "output_type": "stream",
          "name": "stdout",
          "text": [
            "Model saved as plant_disease_clf.pkl\n"
          ]
        }
      ],
      "source": [
        "import pickle\n",
        "pickle.dump(clf, open(\"plant_disease_clf.pkl\", \"wb\"))\n",
        "print(\"Model saved as plant_disease_clf.pkl\")"
      ]
    },
    {
      "cell_type": "markdown",
      "metadata": {
        "id": "ZjKV_PgajoD3"
      },
      "source": [
        "## 🔍 Step 6: Test on New Image"
      ]
    },
    {
      "cell_type": "code",
      "execution_count": 21,
      "metadata": {
        "id": "zqQLjaYqjoD3",
        "colab": {
          "base_uri": "https://localhost:8080/"
        },
        "outputId": "3d7d8f3d-62b9-4e9e-9353-87e7ed24cd63"
      },
      "outputs": [
        {
          "output_type": "stream",
          "name": "stdout",
          "text": [
            "Predicted class: Raspberry___healthy\n"
          ]
        }
      ],
      "source": [
        "test_img_path = os.path.join(train_data_path, classes[0], os.listdir(os.path.join(train_data_path, classes[0]))[0])\n",
        "img = cv2.imread(test_img_path)\n",
        "img_resized = cv2.resize(cv2.cvtColor(img, cv2.COLOR_BGR2GRAY), (IMG_SIZE, IMG_SIZE))\n",
        "prediction = clf.predict([img_resized.flatten()])[0]\n",
        "print(\"Predicted class:\", list(label_map.keys())[list(label_map.values()).index(prediction)])"
      ]
    }
  ],
  "metadata": {
    "colab": {
      "provenance": [],
      "include_colab_link": true
    },
    "kernelspec": {
      "display_name": "Python 3",
      "language": "python",
      "name": "python3"
    },
    "language_info": {
      "name": "python"
    }
  },
  "nbformat": 4,
  "nbformat_minor": 0
}